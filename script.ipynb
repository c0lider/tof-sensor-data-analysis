{
 "cells": [
  {
   "cell_type": "markdown",
   "metadata": {},
   "source": [
    "# Erhebung und Analyse von Sensordaten - Time of flight Kamera\n"
   ]
  },
  {
   "cell_type": "markdown",
   "metadata": {},
   "source": [
    "## Step 1: Load data\n",
    "Get the input data sets inside \"Messdaten\" as a dictionary with the following structure:\n",
    "```json\n",
    "{\n",
    "    \"Input_path_1\": np.array,\n",
    "    \"Input_path_2\": np.array,\n",
    "    // ...\n",
    "    \n",
    "}\n",
    "```\n",
    "Where `np.array` is a three dimensional array containing depth data frames of size 80 * 60 "
   ]
  },
  {
   "cell_type": "code",
   "execution_count": null,
   "metadata": {},
   "outputs": [],
   "source": [
    "import utilities\n",
    "\n",
    "\n",
    "input_file_paths = utilities.load_input_file_paths()\n",
    "data_sets = utilities.load_depth_data_sets(input_file_paths)\n"
   ]
  },
  {
   "cell_type": "markdown",
   "metadata": {},
   "source": [
    "## Step 2: Visualize the data\n",
    "\n",
    "Save the loaded data frames as gif files to `output/<input-file-name>/raw.gif` and display them in this notebook."
   ]
  },
  {
   "cell_type": "code",
   "execution_count": null,
   "metadata": {},
   "outputs": [],
   "source": [
    "from IPython.display import Image, Markdown, display\n",
    "\n",
    "display(Markdown('### Heatmap animations created for input data:'))\n",
    "\n",
    "for file_name, frames in data_sets.items():\n",
    "    try:\n",
    "        output_path = utilities.create_gif_from_frames(frames, f'output/{file_name}/raw.gif')\n",
    "    except ValueError as e:\n",
    "        print(e)\n",
    "        continue\n",
    "\n",
    "    display(Image(filename=output_path, width=200), Markdown(f'*{file_name}*'))\n"
   ]
  },
  {
   "cell_type": "markdown",
   "metadata": {},
   "source": [
    "## Step 3: Manipulate the data\n",
    "\n",
    "1. Create a background map for each frame by calculating the mean depth map per sequence. \n",
    "2. Use the background map to subtract it from each frame in the sequence\n",
    "3. Create a foreground mask:  \n",
    "If the remaining depth value of a pixel is still bigger than a certain threshold, the pixel is considered foreground (value 1)\n",
    "Otherwise the pixel is part of the background (value 0)\n",
    "\n",
    "> The foreground masks are saved in a data structure similar to the original frame data"
   ]
  },
  {
   "cell_type": "code",
   "execution_count": null,
   "metadata": {},
   "outputs": [],
   "source": [
    "import filters\n",
    "import numpy as np\n",
    "\n",
    "display(Markdown('### Foreground masks created for input data:'))\n",
    "\n",
    "foreground_masks = {}\n",
    "\n",
    "for file_name, frames in data_sets.items():\n",
    "    background = filters.compute_background(frames)\n",
    "\n",
    "    foreground_mask = [filters.subtract_background_from_frame(frame, background, 1000) for frame in frames]\n",
    "    foreground_mask = np.stack(foreground_mask)\n",
    "    \n",
    "    foreground_masks[file_name] = foreground_mask\n",
    "    \n",
    "    try:\n",
    "        output_path = utilities.create_gif_from_frames(foreground_mask, f'output/{file_name}/foreground_mask.gif', 0, 1)\n",
    "\n",
    "        display(Image(filename=output_path, width=200))\n",
    "        display(Markdown(f'*{file_name}*'))\n",
    "    except ValueError as e:\n",
    "        print(e)\n",
    "        continue"
   ]
  },
  {
   "cell_type": "markdown",
   "metadata": {},
   "source": [
    "## Step 4: Analyze the data\n",
    "\n",
    "Use cv2 to count shapes in each frame and count the shape as person if it has a certain size"
   ]
  },
  {
   "cell_type": "code",
   "execution_count": null,
   "metadata": {},
   "outputs": [],
   "source": [
    "import vision\n",
    "\n",
    "display(Markdown(f'*Counting people per sequence..*'))\n",
    "\n",
    "people_counts = {}\n",
    "\n",
    "for file_name, foreground_mask in foreground_masks.items():\n",
    "    people_counts[file_name] = [vision.count_people(mask) for mask in foreground_mask]\n",
    "\n",
    "    print(f'Max people in frame ({file_name}):', max(people_counts[file_name]))"
   ]
  },
  {
   "cell_type": "markdown",
   "metadata": {},
   "source": [
    "Label each frame with the amount of people detected."
   ]
  },
  {
   "cell_type": "code",
   "execution_count": null,
   "metadata": {},
   "outputs": [],
   "source": [
    "# TODO:\n",
    "\n",
    "for file_name in data_sets:\n",
    "    utilities.add_text_to_gif(f'output/{file_name}/raw.gif')"
   ]
  }
 ],
 "metadata": {
  "kernelspec": {
   "display_name": "venv",
   "language": "python",
   "name": "python3"
  },
  "language_info": {
   "codemirror_mode": {
    "name": "ipython",
    "version": 3
   },
   "file_extension": ".py",
   "mimetype": "text/x-python",
   "name": "python",
   "nbconvert_exporter": "python",
   "pygments_lexer": "ipython3",
   "version": "3.13.0"
  }
 },
 "nbformat": 4,
 "nbformat_minor": 2
}
