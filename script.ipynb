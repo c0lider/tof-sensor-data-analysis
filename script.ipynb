{
 "cells": [
  {
   "cell_type": "markdown",
   "metadata": {},
   "source": [
    "# Erhebung und Analyse von Sensordaten - Time of flight Kamera\n"
   ]
  },
  {
   "cell_type": "markdown",
   "metadata": {},
   "source": [
    "## Step 1: Load data\n",
    "Get the input path and verify it is a valid file"
   ]
  },
  {
   "cell_type": "code",
   "execution_count": 1,
   "metadata": {},
   "outputs": [
    {
     "name": "stdout",
     "output_type": "stream",
     "text": [
      "Found 22 files in Messdaten\n",
      "Data set contains 107 frames\n",
      "Data set contains 169 frames\n",
      "Data set contains 103 frames\n",
      "Data set contains 136 frames\n",
      "Data set contains 125 frames\n",
      "Data set contains 114 frames\n",
      "Data set contains 113 frames\n",
      "Data set contains 329 frames\n",
      "Data set contains 123 frames\n",
      "Data set contains 104 frames\n",
      "Data set contains 110 frames\n",
      "Data set contains 124 frames\n",
      "Data set contains 122 frames\n",
      "Data set contains 173 frames\n",
      "Data set contains 131 frames\n",
      "Data set contains 111 frames\n",
      "Data set contains 123 frames\n",
      "Data set contains 100 frames\n",
      "Data set contains 114 frames\n",
      "Data set contains 126 frames\n",
      "Data set contains 114 frames\n",
      "Data set contains 147 frames\n"
     ]
    }
   ],
   "source": [
    "import utilities\n",
    "\n",
    "\n",
    "input_file_paths = utilities.load_input_file_paths()\n",
    "data_sets = utilities.load_depth_data_sets(input_file_paths)\n"
   ]
  },
  {
   "cell_type": "code",
   "execution_count": null,
   "metadata": {},
   "outputs": [
    {
     "ename": "FileNotFoundError",
     "evalue": "[Errno 2] No such file or directory: '/Users/dkdoseiffermann/Documents/Uni/5th_semester/erfassung_und_analyse_von_sensordaten/output/Messdaten/2022-05-04 09%3A56%3A08.227366_Terabee_measurement.gif'",
     "output_type": "error",
     "traceback": [
      "\u001b[0;31m---------------------------------------------------------------------------\u001b[0m",
      "\u001b[0;31mFileNotFoundError\u001b[0m                         Traceback (most recent call last)",
      "Cell \u001b[0;32mIn[3], line 5\u001b[0m\n\u001b[1;32m      3\u001b[0m \u001b[38;5;28;01mfor\u001b[39;00m file_name, frames \u001b[38;5;129;01min\u001b[39;00m data_sets\u001b[38;5;241m.\u001b[39mitems():\n\u001b[1;32m      4\u001b[0m     file_name \u001b[38;5;241m=\u001b[39m os\u001b[38;5;241m.\u001b[39mpath\u001b[38;5;241m.\u001b[39msplitext(file_name)[\u001b[38;5;241m0\u001b[39m] \u001b[38;5;241m+\u001b[39m \u001b[38;5;124m'\u001b[39m\u001b[38;5;124m.gif\u001b[39m\u001b[38;5;124m'\u001b[39m\n\u001b[0;32m----> 5\u001b[0m     \u001b[43mutilities\u001b[49m\u001b[38;5;241;43m.\u001b[39;49m\u001b[43mcreate_gif_from_frames\u001b[49m\u001b[43m(\u001b[49m\u001b[43mframes\u001b[49m\u001b[43m,\u001b[49m\u001b[43m \u001b[49m\u001b[43mfile_name\u001b[49m\u001b[43m)\u001b[49m\n",
      "File \u001b[0;32m~/Documents/Uni/5th_semester/erfassung_und_analyse_von_sensordaten/utilities.py:105\u001b[0m, in \u001b[0;36mcreate_gif_from_frames\u001b[0;34m(frames, file_name)\u001b[0m\n\u001b[1;32m    101\u001b[0m     plt\u001b[38;5;241m.\u001b[39mclf()\n\u001b[1;32m    103\u001b[0m output_path \u001b[38;5;241m=\u001b[39m os\u001b[38;5;241m.\u001b[39mpath\u001b[38;5;241m.\u001b[39mjoin(os\u001b[38;5;241m.\u001b[39mpath\u001b[38;5;241m.\u001b[39mabspath(OUTPUT_DIR_NAME), file_name)\n\u001b[0;32m--> 105\u001b[0m \u001b[43mimage_frames\u001b[49m\u001b[43m[\u001b[49m\u001b[38;5;241;43m0\u001b[39;49m\u001b[43m]\u001b[49m\u001b[38;5;241;43m.\u001b[39;49m\u001b[43msave\u001b[49m\u001b[43m(\u001b[49m\n\u001b[1;32m    106\u001b[0m \u001b[43m    \u001b[49m\u001b[43moutput_path\u001b[49m\u001b[43m,\u001b[49m\n\u001b[1;32m    107\u001b[0m \u001b[43m    \u001b[49m\u001b[38;5;28;43mformat\u001b[39;49m\u001b[38;5;241;43m=\u001b[39;49m\u001b[38;5;124;43m\"\u001b[39;49m\u001b[38;5;124;43mGIF\u001b[39;49m\u001b[38;5;124;43m\"\u001b[39;49m\u001b[43m,\u001b[49m\n\u001b[1;32m    108\u001b[0m \u001b[43m    \u001b[49m\u001b[43mappend_images\u001b[49m\u001b[38;5;241;43m=\u001b[39;49m\u001b[43mimage_frames\u001b[49m\u001b[43m[\u001b[49m\u001b[38;5;241;43m1\u001b[39;49m\u001b[43m:\u001b[49m\u001b[43m]\u001b[49m\u001b[43m,\u001b[49m\n\u001b[1;32m    109\u001b[0m \u001b[43m    \u001b[49m\u001b[43msave_all\u001b[49m\u001b[38;5;241;43m=\u001b[39;49m\u001b[38;5;28;43;01mTrue\u001b[39;49;00m\u001b[43m,\u001b[49m\n\u001b[1;32m    110\u001b[0m \u001b[43m    \u001b[49m\u001b[43mduration\u001b[49m\u001b[38;5;241;43m=\u001b[39;49m\u001b[38;5;241;43m100\u001b[39;49m\u001b[43m,\u001b[49m\n\u001b[1;32m    111\u001b[0m \u001b[43m    \u001b[49m\u001b[43mloop\u001b[49m\u001b[38;5;241;43m=\u001b[39;49m\u001b[38;5;241;43m0\u001b[39;49m\u001b[43m,\u001b[49m\n\u001b[1;32m    112\u001b[0m \u001b[43m\u001b[49m\u001b[43m)\u001b[49m\n",
      "File \u001b[0;32m~/Documents/Uni/5th_semester/erfassung_und_analyse_von_sensordaten/venv/lib/python3.13/site-packages/PIL/Image.py:2600\u001b[0m, in \u001b[0;36mImage.save\u001b[0;34m(self, fp, format, **params)\u001b[0m\n\u001b[1;32m   2598\u001b[0m         fp \u001b[38;5;241m=\u001b[39m builtins\u001b[38;5;241m.\u001b[39mopen(filename, \u001b[38;5;124m\"\u001b[39m\u001b[38;5;124mr+b\u001b[39m\u001b[38;5;124m\"\u001b[39m)\n\u001b[1;32m   2599\u001b[0m     \u001b[38;5;28;01melse\u001b[39;00m:\n\u001b[0;32m-> 2600\u001b[0m         fp \u001b[38;5;241m=\u001b[39m \u001b[43mbuiltins\u001b[49m\u001b[38;5;241;43m.\u001b[39;49m\u001b[43mopen\u001b[49m\u001b[43m(\u001b[49m\u001b[43mfilename\u001b[49m\u001b[43m,\u001b[49m\u001b[43m \u001b[49m\u001b[38;5;124;43m\"\u001b[39;49m\u001b[38;5;124;43mw+b\u001b[39;49m\u001b[38;5;124;43m\"\u001b[39;49m\u001b[43m)\u001b[49m\n\u001b[1;32m   2601\u001b[0m \u001b[38;5;28;01melse\u001b[39;00m:\n\u001b[1;32m   2602\u001b[0m     fp \u001b[38;5;241m=\u001b[39m cast(IO[\u001b[38;5;28mbytes\u001b[39m], fp)\n",
      "\u001b[0;31mFileNotFoundError\u001b[0m: [Errno 2] No such file or directory: '/Users/dkdoseiffermann/Documents/Uni/5th_semester/erfassung_und_analyse_von_sensordaten/output/Messdaten/2022-05-04 09%3A56%3A08.227366_Terabee_measurement.gif'"
     ]
    },
    {
     "data": {
      "text/plain": [
       "<Figure size 640x480 with 0 Axes>"
      ]
     },
     "metadata": {},
     "output_type": "display_data"
    }
   ],
   "source": [
    "import os\n",
    "\n",
    "for file_name, frames in data_sets.items():\n",
    "    file_name = (os.path.splitext(file_name)[0] + '.gif').replace(\" \", \"_\")\n",
    "    utilities.create_gif_from_frames(frames, file_name)"
   ]
  },
  {
   "cell_type": "markdown",
   "metadata": {},
   "source": [
    "Load the input data into a pandas dataframe of width 80 * height 60"
   ]
  },
  {
   "cell_type": "markdown",
   "metadata": {},
   "source": [
    "Print the frame as a heat map using matplotlib"
   ]
  },
  {
   "cell_type": "code",
   "execution_count": null,
   "metadata": {},
   "outputs": [],
   "source": [
    "# from PIL import Image\n",
    "\n",
    "# frames = []\n",
    "\n",
    "# for i in range(np_array.shape[0]):\n",
    "#     # Create the plot\n",
    "#     plt.imshow(np_array[i], cmap='hot', interpolation='nearest', vmin=0, vmax=3321)\n",
    "#     plt.axis('off')  # Hide axes for a cleaner look\n",
    "\n",
    "#     # Save the plot as an image in memory\n",
    "#     plt.tight_layout()\n",
    "#     plt.draw()\n",
    "\n",
    "#     # Convert the plot to a PIL image and add to frames list\n",
    "#     image = Image.frombytes('RGB', plt.gcf().canvas.get_width_height(),\n",
    "#                             plt.gcf().canvas.tostring_rgb())\n",
    "#     frames.append(image)\n",
    "\n",
    "#     plt.clf()  # Clear the figure for the next frame\n",
    "\n",
    "# # Save frames as a GIF\n",
    "# frames[0].save('heatmap_animation.gif', format='GIF', append_images=frames[1:],\n",
    "#                save_all=True, duration=100, loop=0)"
   ]
  }
 ],
 "metadata": {
  "kernelspec": {
   "display_name": "venv",
   "language": "python",
   "name": "python3"
  },
  "language_info": {
   "codemirror_mode": {
    "name": "ipython",
    "version": 3
   },
   "file_extension": ".py",
   "mimetype": "text/x-python",
   "name": "python",
   "nbconvert_exporter": "python",
   "pygments_lexer": "ipython3",
   "version": "3.13.0"
  }
 },
 "nbformat": 4,
 "nbformat_minor": 2
}
