{
 "cells": [
  {
   "cell_type": "markdown",
   "metadata": {},
   "source": [
    "# Erhebung und Analyse von Sensordaten - Time of flight Kamera\n"
   ]
  },
  {
   "cell_type": "markdown",
   "metadata": {},
   "source": [
    "## Step 1: Load data\n",
    "Get the input path and verify it is a valid file"
   ]
  },
  {
   "cell_type": "code",
   "execution_count": 2,
   "metadata": {},
   "outputs": [
    {
     "name": "stdout",
     "output_type": "stream",
     "text": [
      "Reading /Users/dkdoseiffermann/Documents/Uni/5th_semester/erfassung_und_analyse_von_sensordaten/input_data.csv...\n"
     ]
    }
   ],
   "source": [
    "import os\n",
    "\n",
    "\n",
    "data_dir = input('Input file path: ')\n",
    "\n",
    "if not os.path.isabs(data_dir):\n",
    "    data_dir = os.path.abspath(data_dir)\n",
    "\n",
    "if not os.path.exists(data_dir):\n",
    "    print(f'File {data_dir} does not exist')\n",
    "    exit(1)\n",
    "\n",
    "if not os.path.isfile(data_dir):\n",
    "    print(f'{data_dir} is a directoy, not a file')\n",
    "    exit(1)\n",
    "\n",
    "if os.path.splitext(data_dir)[1] != '.csv':\n",
    "    print(f'{data_dir} is not a csv file')\n",
    "    exit(1)\n",
    "\n",
    "print(f'Reading {data_dir}...')"
   ]
  },
  {
   "cell_type": "markdown",
   "metadata": {},
   "source": [
    "Load the input data into a pandas dataframe of width 80 * height 60"
   ]
  },
  {
   "cell_type": "code",
   "execution_count": null,
   "metadata": {},
   "outputs": [
    {
     "name": "stdout",
     "output_type": "stream",
     "text": [
      "The dataset's format is (60, 80)\n"
     ]
    }
   ],
   "source": [
    "import pandas as pd\n",
    "\n",
    "df = pd.read_csv(data_dir, header=None, delimiter=';')\n",
    "\n",
    "print(f\"The dataset's format is {df.shape}\")"
   ]
  }
 ],
 "metadata": {
  "kernelspec": {
   "display_name": "venv",
   "language": "python",
   "name": "python3"
  },
  "language_info": {
   "codemirror_mode": {
    "name": "ipython",
    "version": 3
   },
   "file_extension": ".py",
   "mimetype": "text/x-python",
   "name": "python",
   "nbconvert_exporter": "python",
   "pygments_lexer": "ipython3",
   "version": "3.13.0"
  }
 },
 "nbformat": 4,
 "nbformat_minor": 2
}
